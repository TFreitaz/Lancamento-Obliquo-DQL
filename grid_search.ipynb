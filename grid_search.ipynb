{
 "cells": [
  {
   "cell_type": "markdown",
   "metadata": {},
   "source": [
    "# Otimização de parâmetros"
   ]
  },
  {
   "cell_type": "code",
   "execution_count": 11,
   "metadata": {},
   "outputs": [],
   "source": [
    "from ztools.ntf import telegram # apagar - biblioteca particular\n",
    "\n",
    "from agent import Agent\n",
    "from environment import Environment\n",
    "from utils import plot_evolution, get_config\n",
    "\n",
    "import os\n",
    "import re\n",
    "import time\n",
    "import json\n",
    "import numpy as np\n",
    "import pandas as pd\n",
    "import matplotlib.pyplot as plt\n",
    "import tensorflow.compat.v1 as tf\n",
    "\n",
    "from tqdm import tqdm\n",
    "from datetime import datetime"
   ]
  },
  {
   "cell_type": "code",
   "execution_count": 34,
   "metadata": {},
   "outputs": [
    {
     "name": "stdout",
     "output_type": "stream",
     "text": [
      "Número de combinações: 8\n"
     ]
    }
   ],
   "source": [
    "param_grid = {\n",
    "    #'theta_disc': np.arange(80, 101, 10),\n",
    "    #'vel_disc': np.arange(90, 111, 10),\n",
    "    'n_episodes': np.arange(2000, 6000, 500),\n",
    "    # 'min_experiences': np.arange(0, 1000, 300),\n",
    "    # 'max_experiences': np.arange(4000, 15000, 3000),\n",
    "    # 'decay': np.arange(0.001, 0.05, 0.005),\n",
    "    # 'batch_size': np.arange(0, 1001, 1000),\n",
    "}\n",
    "\n",
    "n = 1\n",
    "for param in param_grid:\n",
    "    n *= len(param_grid[param])\n",
    "print('Número de combinações:', n)"
   ]
  },
  {
   "cell_type": "code",
   "execution_count": 35,
   "metadata": {},
   "outputs": [],
   "source": [
    "grid = []\n",
    "start = True\n",
    "for param in param_grid:\n",
    "    news = []\n",
    "    for value in param_grid[param]:\n",
    "        if start:\n",
    "            conf = {param: value}\n",
    "            news.append(conf)\n",
    "        else:\n",
    "            for conf in grid:\n",
    "                new_conf = conf.copy()\n",
    "                new_conf[param] = value\n",
    "                news.append(new_conf)\n",
    "    grid = news\n",
    "    start = False"
   ]
  },
  {
   "cell_type": "code",
   "execution_count": 27,
   "metadata": {},
   "outputs": [
    {
     "name": "stdout",
     "output_type": "stream",
     "text": [
      "(1/10)\n"
     ]
    },
    {
     "name": "stderr",
     "output_type": "stream",
     "text": [
      "100%|████████████████████████████████████| 4000/4000 [08:41<00:00,  7.67it/s]\n",
      " 21%|███████▏                           | 206/1000 [00:00<00:00, 2039.66it/s]"
     ]
    },
    {
     "name": "stdout",
     "output_type": "stream",
     "text": [
      "\n",
      "Last 100 episode rewards average: 34.01747963219155\n",
      "Total reward: 31067.57346012711\n",
      "Total training time: 521.6069967746735 s\n",
      "\n",
      "Testing.\n",
      "\n"
     ]
    },
    {
     "name": "stderr",
     "output_type": "stream",
     "text": [
      "100%|██████████████████████████████████| 1000/1000 [00:00<00:00, 1708.11it/s]\n"
     ]
    },
    {
     "name": "stdout",
     "output_type": "stream",
     "text": [
      "\n",
      "Score médio: 40.857129802009155\n",
      "(2/10)\n"
     ]
    },
    {
     "name": "stderr",
     "output_type": "stream",
     "text": [
      "100%|████████████████████████████████████| 4000/4000 [08:34<00:00,  7.78it/s]\n",
      " 22%|███████▋                           | 218/1000 [00:00<00:00, 2179.96it/s]"
     ]
    },
    {
     "name": "stdout",
     "output_type": "stream",
     "text": [
      "\n",
      "Last 100 episode rewards average: 41.8453629958977\n",
      "Total reward: 58291.83341408594\n",
      "Total training time: 514.1710028648376 s\n",
      "\n",
      "Testing.\n",
      "\n"
     ]
    },
    {
     "name": "stderr",
     "output_type": "stream",
     "text": [
      "100%|██████████████████████████████████| 1000/1000 [00:00<00:00, 2109.64it/s]\n"
     ]
    },
    {
     "name": "stdout",
     "output_type": "stream",
     "text": [
      "\n",
      "Score médio: 38.64470175220358\n",
      "(3/10)\n"
     ]
    },
    {
     "name": "stderr",
     "output_type": "stream",
     "text": [
      "100%|████████████████████████████████████| 4000/4000 [08:34<00:00,  7.78it/s]\n",
      " 19%|██████▊                            | 194/1000 [00:00<00:00, 1939.98it/s]"
     ]
    },
    {
     "name": "stdout",
     "output_type": "stream",
     "text": [
      "\n",
      "Last 100 episode rewards average: 40.97408985601743\n",
      "Total reward: 48557.090127614116\n",
      "Total training time: 514.2984008789062 s\n",
      "\n",
      "Testing.\n",
      "\n"
     ]
    },
    {
     "name": "stderr",
     "output_type": "stream",
     "text": [
      "100%|██████████████████████████████████| 1000/1000 [00:00<00:00, 1841.63it/s]\n"
     ]
    },
    {
     "name": "stdout",
     "output_type": "stream",
     "text": [
      "\n",
      "Score médio: 37.198726169477936\n",
      "(4/10)\n"
     ]
    },
    {
     "name": "stderr",
     "output_type": "stream",
     "text": [
      "100%|████████████████████████████████████| 4000/4000 [08:34<00:00,  7.78it/s]\n",
      " 21%|███████▏                           | 207/1000 [00:00<00:00, 2069.94it/s]"
     ]
    },
    {
     "name": "stdout",
     "output_type": "stream",
     "text": [
      "\n",
      "Last 100 episode rewards average: 39.52668057232902\n",
      "Total reward: 62167.16240643356\n",
      "Total training time: 514.2338888645172 s\n",
      "\n",
      "Testing.\n",
      "\n"
     ]
    },
    {
     "name": "stderr",
     "output_type": "stream",
     "text": [
      "100%|██████████████████████████████████| 1000/1000 [00:00<00:00, 1719.23it/s]\n"
     ]
    },
    {
     "name": "stdout",
     "output_type": "stream",
     "text": [
      "\n",
      "Score médio: 40.35995335759527\n",
      "(5/10)\n"
     ]
    },
    {
     "name": "stderr",
     "output_type": "stream",
     "text": [
      "100%|████████████████████████████████████| 4000/4000 [08:35<00:00,  7.75it/s]\n",
      " 20%|███████▏                           | 205/1000 [00:00<00:00, 2049.73it/s]"
     ]
    },
    {
     "name": "stdout",
     "output_type": "stream",
     "text": [
      "\n",
      "Last 100 episode rewards average: 43.76513881756418\n",
      "Total reward: 62166.243569249586\n",
      "Total training time: 515.8837239742279 s\n",
      "\n",
      "Testing.\n",
      "\n"
     ]
    },
    {
     "name": "stderr",
     "output_type": "stream",
     "text": [
      "100%|██████████████████████████████████| 1000/1000 [00:00<00:00, 1883.23it/s]\n"
     ]
    },
    {
     "name": "stdout",
     "output_type": "stream",
     "text": [
      "\n",
      "Score médio: 43.02431485200273\n",
      "(6/10)\n"
     ]
    },
    {
     "name": "stderr",
     "output_type": "stream",
     "text": [
      "100%|████████████████████████████████████| 4000/4000 [09:56<00:00,  6.70it/s]\n",
      " 21%|███████▎                           | 208/1000 [00:00<00:00, 2059.42it/s]"
     ]
    },
    {
     "name": "stdout",
     "output_type": "stream",
     "text": [
      "\n",
      "Last 100 episode rewards average: 37.64990926273465\n",
      "Total reward: 51164.52487493741\n",
      "Total training time: 596.6334843635559 s\n",
      "\n",
      "Testing.\n",
      "\n"
     ]
    },
    {
     "name": "stderr",
     "output_type": "stream",
     "text": [
      "100%|██████████████████████████████████| 1000/1000 [00:00<00:00, 1996.01it/s]\n"
     ]
    },
    {
     "name": "stdout",
     "output_type": "stream",
     "text": [
      "\n",
      "Score médio: 41.723567090189036\n",
      "(7/10)\n"
     ]
    },
    {
     "name": "stderr",
     "output_type": "stream",
     "text": [
      "100%|████████████████████████████████████| 4000/4000 [10:03<00:00,  6.62it/s]\n",
      " 16%|█████▋                             | 163/1000 [00:00<00:00, 1629.85it/s]"
     ]
    },
    {
     "name": "stdout",
     "output_type": "stream",
     "text": [
      "\n",
      "Last 100 episode rewards average: 23.73216034765341\n",
      "Total reward: 31880.523048637417\n",
      "Total training time: 603.89302277565 s\n",
      "\n",
      "Testing.\n",
      "\n"
     ]
    },
    {
     "name": "stderr",
     "output_type": "stream",
     "text": [
      "100%|██████████████████████████████████| 1000/1000 [00:00<00:00, 1675.05it/s]\n"
     ]
    },
    {
     "name": "stdout",
     "output_type": "stream",
     "text": [
      "\n",
      "Score médio: 26.672436317222783\n",
      "(8/10)\n"
     ]
    },
    {
     "name": "stderr",
     "output_type": "stream",
     "text": [
      "100%|████████████████████████████████████| 4000/4000 [10:01<00:00,  6.65it/s]\n",
      " 34%|████████████                       | 343/1000 [00:00<00:00, 1696.97it/s]"
     ]
    },
    {
     "name": "stdout",
     "output_type": "stream",
     "text": [
      "\n",
      "Last 100 episode rewards average: 31.92697051998757\n",
      "Total reward: 63570.6699209779\n",
      "Total training time: 601.0880472660065 s\n",
      "\n",
      "Testing.\n",
      "\n"
     ]
    },
    {
     "name": "stderr",
     "output_type": "stream",
     "text": [
      "100%|██████████████████████████████████| 1000/1000 [00:00<00:00, 1694.92it/s]\n"
     ]
    },
    {
     "name": "stdout",
     "output_type": "stream",
     "text": [
      "\n",
      "Score médio: 35.09720096396326\n",
      "(9/10)\n"
     ]
    },
    {
     "name": "stderr",
     "output_type": "stream",
     "text": [
      "100%|████████████████████████████████████| 4000/4000 [10:17<00:00,  6.48it/s]\n",
      " 14%|████▉                              | 141/1000 [00:00<00:00, 1396.05it/s]"
     ]
    },
    {
     "name": "stdout",
     "output_type": "stream",
     "text": [
      "\n",
      "Last 100 episode rewards average: 41.26225814547098\n",
      "Total reward: 47186.477496394116\n",
      "Total training time: 617.7129123210907 s\n",
      "\n",
      "Testing.\n",
      "\n"
     ]
    },
    {
     "name": "stderr",
     "output_type": "stream",
     "text": [
      "100%|██████████████████████████████████| 1000/1000 [00:00<00:00, 1555.19it/s]\n"
     ]
    },
    {
     "name": "stdout",
     "output_type": "stream",
     "text": [
      "\n",
      "Score médio: 43.436153196753125\n",
      "(10/10)\n"
     ]
    },
    {
     "name": "stderr",
     "output_type": "stream",
     "text": [
      "100%|████████████████████████████████████| 4000/4000 [10:11<00:00,  6.54it/s]\n",
      " 28%|█████████▊                         | 279/1000 [00:00<00:00, 1380.59it/s]"
     ]
    },
    {
     "name": "stdout",
     "output_type": "stream",
     "text": [
      "\n",
      "Last 100 episode rewards average: 33.048131025526175\n",
      "Total reward: 57194.402190778535\n",
      "Total training time: 611.9169886112213 s\n",
      "\n",
      "Testing.\n",
      "\n"
     ]
    },
    {
     "name": "stderr",
     "output_type": "stream",
     "text": [
      "100%|██████████████████████████████████| 1000/1000 [00:00<00:00, 1344.07it/s]\n"
     ]
    },
    {
     "name": "stdout",
     "output_type": "stream",
     "text": [
      "\n",
      "Score médio: 40.24068656102817\n"
     ]
    }
   ],
   "source": [
    "for i, conf in enumerate(grid):\n",
    "    print(f'({i+1}/{len(grid)})')\n",
    "    env_settings = {\n",
    "        'theta_disc': get_config('theta_dict', 91, int),  # número de pontos de discretização do ângulo de lancamento\n",
    "        'vel_disc': get_config('vel_disc', 100, int),  # número de pontos de dicretização da velocidade de lancamento\n",
    "        'max_dist': 50,  # máxima distancia possivel para o alvo\n",
    "        'target_len': 'random'  # comprimento do alvo, isto e, tolerância absoluta para sucesso\n",
    "    }\n",
    "\n",
    "    n_states = 2\n",
    "\n",
    "    n_episodes = get_config('n_episodes', 4000, int)  # número de episodios a serem executados\n",
    "    decay = get_config('decay', 0.01, float)  # decaimento da taxa de aleatoriedade\n",
    "\n",
    "    agent_settings = {\n",
    "        'num_states': 2,  # número de parâmetros de um estado = (distancia)\n",
    "        'gamma': 0,  # incremento por ações futuras\n",
    "        'min_experiences': get_config('min_experiences', 900, int),  # mínimo de experiências aleatórias\n",
    "        'max_experiences': get_config('max_experiences', 13000, int),  # máximo de experiências aleatórias\n",
    "        'batch_size': 0  # tamanho do pacote aleatório a ser treinado em cada episódio\n",
    "    }\n",
    "\n",
    "    total_reward = 0  # recompensa total\n",
    "    min_eps = 0.01  # mínima taxa de aleatoriedade\n",
    "    max_eps = 1  # máxima taxa de aleatoriedade\n",
    "    verbose = 0  # tipo de output visível após a execução\n",
    "    pack_size = 5  # números de episódios considerados em cada média no plot resultante\n",
    "\n",
    "    data = {\n",
    "        'agent_settings': agent_settings,\n",
    "        'env_settings': env_settings,\n",
    "        'training_settings': {\n",
    "            'n_states': n_states,\n",
    "            'n_episodes': n_episodes,\n",
    "            'min_eps': min_eps,\n",
    "            'max_eps': max_eps,\n",
    "            'decay': decay\n",
    "        }\n",
    "    }\n",
    "\n",
    "    env = Environment(**env_settings)  # ambiente configurado com parâmetros definidos\n",
    "\n",
    "    with tf.Session() as sess:\n",
    "        # saver = tf.train.Saver()\n",
    "        agent = Agent(sess, len(env.actions), **agent_settings)  # agente configurado com acoes definidas\n",
    "        sess.run(agent.init)  # inicalização da sessão para o agente (?)\n",
    "\n",
    "        all_episodes = range(n_episodes)  # index de episódios\n",
    "\n",
    "        if verbose == 0:\n",
    "            all_episodes = tqdm(all_episodes)  # barra de progressão por episódios\n",
    "\n",
    "        start_training = time.time()\n",
    "\n",
    "        for i in all_episodes:\n",
    "            eps = min_eps + (max_eps - min_eps) * np.exp(-decay * i)  # cálculo da taxa de aleatoriedade\n",
    "\n",
    "            state = env.reset()  # gera um novo ambiente = novo alvo\n",
    "            action = agent.choose_action(state, eps)  # toma uma ação dado o ambiente\n",
    "            reward, next_state = env.step(action, state)  # calcula os efeitos da ação tomada\n",
    "            agent.add_experience(state, action, reward, next_state)  # absorve a experiência obtida\n",
    "            agent.train()  # treino\n",
    "\n",
    "            if verbose == 1 and i % 100 == 0:\n",
    "                print(\"Reward:\", reward)\n",
    "\n",
    "        data['results'] = {\n",
    "            'training_rewards': agent.rewards,\n",
    "            'training_time': time.time() - start_training\n",
    "        }\n",
    "\n",
    "        print(\"\\nLast 100 episode rewards average:\", sum(agent.rewards[-100:]) / 100)\n",
    "        print(\"Total reward:\", sum(agent.rewards))\n",
    "        print('Total training time:', data['results']['training_time'], 's')\n",
    "\n",
    "        # saver.save(sess, 'data/test_session')\n",
    "\n",
    "        # plot_evolution(agent.rewards, pack_size, 'Treino')\n",
    "\n",
    "        print('\\nTesting.\\n')\n",
    "\n",
    "        n_episodes = 1000\n",
    "\n",
    "        rewards = []\n",
    "\n",
    "        for i in tqdm(range(n_episodes)):\n",
    "            state = env.reset()  # gera um novo ambiente = novo alvo\n",
    "            action = agent.choose_action(state, 0)  # toma uma ação dado o ambiente\n",
    "            reward, next_state = env.step(action, state)  # calcula os efeitos da ação tomada\n",
    "            rewards.append(reward)\n",
    "\n",
    "        data['results']['testing_rewards'] = rewards\n",
    "        data['date'] = datetime.today().isoformat()\n",
    "\n",
    "        if 'data' not in os.listdir():\n",
    "            os.mkdir('data')\n",
    "        filename = re.sub(r'[\\-\\:\\.]', '', data['date'])\n",
    "        with open(f\"data/{filename}.json\", 'w') as f:\n",
    "            try:\n",
    "                json.dump(data, f)\n",
    "            except Exception as e:\n",
    "                telegram('Erro no carregamento dos dados.\\n\\n' + str(e)) # apagar - biblioteca particular\n",
    "                raise e\n",
    "\n",
    "        # plot_evolution(rewards, pack_size, 'Teste')\n",
    "\n",
    "        print('\\nScore médio:', sum(rewards)/n_episodes)\n",
    "telegram('GridSearch completo.') # apagar - biblioteca particular"
   ]
  },
  {
   "cell_type": "code",
   "execution_count": 28,
   "metadata": {},
   "outputs": [],
   "source": [
    "data = []\n",
    "for file in os.listdir('data')[-len(grid):]:\n",
    "    data.append(json.loads(open(f'data/{file}').read()))"
   ]
  },
  {
   "cell_type": "code",
   "execution_count": 29,
   "metadata": {},
   "outputs": [
    {
     "data": {
      "text/html": [
       "<div>\n",
       "<style scoped>\n",
       "    .dataframe tbody tr th:only-of-type {\n",
       "        vertical-align: middle;\n",
       "    }\n",
       "\n",
       "    .dataframe tbody tr th {\n",
       "        vertical-align: top;\n",
       "    }\n",
       "\n",
       "    .dataframe thead th {\n",
       "        text-align: right;\n",
       "    }\n",
       "</style>\n",
       "<table border=\"1\" class=\"dataframe\">\n",
       "  <thead>\n",
       "    <tr style=\"text-align: right;\">\n",
       "      <th></th>\n",
       "      <th>decay</th>\n",
       "      <th>reward</th>\n",
       "      <th>training_time</th>\n",
       "    </tr>\n",
       "  </thead>\n",
       "  <tbody>\n",
       "    <tr>\n",
       "      <th>0</th>\n",
       "      <td>0.001</td>\n",
       "      <td>40.857130</td>\n",
       "      <td>521.606997</td>\n",
       "    </tr>\n",
       "    <tr>\n",
       "      <th>1</th>\n",
       "      <td>0.006</td>\n",
       "      <td>38.644702</td>\n",
       "      <td>514.171003</td>\n",
       "    </tr>\n",
       "    <tr>\n",
       "      <th>2</th>\n",
       "      <td>0.011</td>\n",
       "      <td>37.198726</td>\n",
       "      <td>514.298401</td>\n",
       "    </tr>\n",
       "    <tr>\n",
       "      <th>3</th>\n",
       "      <td>0.016</td>\n",
       "      <td>40.359953</td>\n",
       "      <td>514.233889</td>\n",
       "    </tr>\n",
       "    <tr>\n",
       "      <th>4</th>\n",
       "      <td>0.021</td>\n",
       "      <td>43.024315</td>\n",
       "      <td>515.883724</td>\n",
       "    </tr>\n",
       "    <tr>\n",
       "      <th>5</th>\n",
       "      <td>0.026</td>\n",
       "      <td>41.723567</td>\n",
       "      <td>596.633484</td>\n",
       "    </tr>\n",
       "    <tr>\n",
       "      <th>6</th>\n",
       "      <td>0.031</td>\n",
       "      <td>26.672436</td>\n",
       "      <td>603.893023</td>\n",
       "    </tr>\n",
       "    <tr>\n",
       "      <th>7</th>\n",
       "      <td>0.036</td>\n",
       "      <td>35.097201</td>\n",
       "      <td>601.088047</td>\n",
       "    </tr>\n",
       "    <tr>\n",
       "      <th>8</th>\n",
       "      <td>0.041</td>\n",
       "      <td>43.436153</td>\n",
       "      <td>617.712912</td>\n",
       "    </tr>\n",
       "    <tr>\n",
       "      <th>9</th>\n",
       "      <td>0.046</td>\n",
       "      <td>40.240687</td>\n",
       "      <td>611.916989</td>\n",
       "    </tr>\n",
       "  </tbody>\n",
       "</table>\n",
       "</div>"
      ],
      "text/plain": [
       "   decay     reward  training_time\n",
       "0  0.001  40.857130     521.606997\n",
       "1  0.006  38.644702     514.171003\n",
       "2  0.011  37.198726     514.298401\n",
       "3  0.016  40.359953     514.233889\n",
       "4  0.021  43.024315     515.883724\n",
       "5  0.026  41.723567     596.633484\n",
       "6  0.031  26.672436     603.893023\n",
       "7  0.036  35.097201     601.088047\n",
       "8  0.041  43.436153     617.712912\n",
       "9  0.046  40.240687     611.916989"
      ]
     },
     "execution_count": 29,
     "metadata": {},
     "output_type": "execute_result"
    }
   ],
   "source": [
    "df = {'n_episodes': [], 'reward': [], 'training_time': []}\n",
    "for d in data:\n",
    "    df['n_episodes'].append(d['training_settings']['n_episodes'])\n",
    "    df['reward'].append(np.mean(d['results']['testing_rewards']))\n",
    "    df['training_time'].append(d['results']['training_time'])\n",
    "    \n",
    "result = pd.DataFrame(df)\n",
    "if 'grid_data' not in os.listdir():\n",
    "    os.mkdir('grid_data')\n",
    "result.to_csv(f\"grid_data/{len(os.listdir('grid_data'))}.csv\")\n",
    "result"
   ]
  },
  {
   "cell_type": "code",
   "execution_count": 30,
   "metadata": {},
   "outputs": [
    {
     "data": {
      "image/png": "[encoded data removed]",
      "text/plain": [
       "<Figure size 432x288 with 1 Axes>"
      ]
     },
     "metadata": {
      "needs_background": "light"
     },
     "output_type": "display_data"
    }
   ],
   "source": [
    "plt.scatter(result['reward'], result['training_time'])\n",
    "plt.title('Desempenho das configurações testadas')\n",
    "plt.xlabel('Recompença média no teste')\n",
    "plt.ylabel('Tempo de treinamento')\n",
    "[plt.annotate(i, (result['reward'][i], result['training_time'][i]), xytext=(result['reward'][i]*1.005, result['training_time'][i]*1.005)) for i in result.index]\n",
    "plt.xlim([min(result['reward'].values)/1.02, max(result['reward'].values)*1.02])\n",
    "plt.ylim([min(result['training_time'].values)/1.02, max(result['training_time'].values)*1.02])\n",
    "plt.show()"
   ]
  },
  {
   "cell_type": "code",
   "execution_count": null,
   "metadata": {},
   "outputs": [],
   "source": [
    "result.iloc[3]"
   ]
  }
 ],
 "metadata": {
  "kernelspec": {
   "display_name": "Python 3",
   "language": "python",
   "name": "python3"
  },
  "language_info": {
   "codemirror_mode": {
    "name": "ipython",
    "version": 3
   },
   "file_extension": ".py",
   "mimetype": "text/x-python",
   "name": "python",
   "nbconvert_exporter": "python",
   "pygments_lexer": "ipython3",
   "version": "3.8.5"
  }
 },
 "nbformat": 4,
 "nbformat_minor": 4
}
